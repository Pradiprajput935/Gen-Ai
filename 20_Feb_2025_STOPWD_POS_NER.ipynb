{
  "nbformat": 4,
  "nbformat_minor": 0,
  "metadata": {
    "colab": {
      "provenance": []
    },
    "kernelspec": {
      "name": "python3",
      "display_name": "Python 3"
    },
    "language_info": {
      "name": "python"
    }
  },
  "cells": [
    {
      "cell_type": "code",
      "execution_count": null,
      "metadata": {
        "id": "ZcrR0T630PV2"
      },
      "outputs": [],
      "source": [
        "2. Fundamentals of NLP\n",
        "● Text Preprocessing: ○ Tokenization (Word, Sentence, Subword Tokenization)\n",
        "○ Lemmatization and Stemming\n",
        "○ Stop Words Removal\n",
        "● Part-of-Speech (POS) Tagging\n",
        "● Named Entity Recognition (NER)"
      ]
    },
    {
      "cell_type": "code",
      "source": [
        "What are Stop Words?\n",
        "Stop words are commonly used words (e.g., is, the, and, in, to, of, for)\n",
        "that do not carry much meaning in text processing. Removing them helps in\n",
        "reducing noise and improving NLP model performance.\n",
        "\n",
        "Example Stop Words:\n",
        "English: a, an, the, is, of, in, for, on, with, and"
      ],
      "metadata": {
        "id": "mYxTTcta0-GE"
      },
      "execution_count": null,
      "outputs": []
    },
    {
      "cell_type": "code",
      "source": [
        "✅ Use when processing large text data for search engines, classification, and topic modeling.\n",
        "❌ Avoid if stop words contribute meaning (e.g., sentiment analysis, machine translation)."
      ],
      "metadata": {
        "id": "Wn4q52_x1NLb"
      },
      "execution_count": null,
      "outputs": []
    },
    {
      "cell_type": "code",
      "source": [
        "import nltk\n",
        "from nltk.corpus import stopwords\n",
        "from nltk.tokenize import word_tokenize"
      ],
      "metadata": {
        "id": "7jADr-dh1sN6"
      },
      "execution_count": 1,
      "outputs": []
    },
    {
      "cell_type": "code",
      "source": [
        "nltk.download(\"punkt\")\n",
        "nltk.download(\"stopwords\")"
      ],
      "metadata": {
        "colab": {
          "base_uri": "https://localhost:8080/"
        },
        "id": "L7faPpu92CSi",
        "outputId": "00e09147-e80e-44ce-da02-b4e5eb413c92"
      },
      "execution_count": 2,
      "outputs": [
        {
          "output_type": "stream",
          "name": "stderr",
          "text": [
            "[nltk_data] Downloading package punkt to /root/nltk_data...\n",
            "[nltk_data]   Unzipping tokenizers/punkt.zip.\n",
            "[nltk_data] Downloading package stopwords to /root/nltk_data...\n",
            "[nltk_data]   Unzipping corpora/stopwords.zip.\n"
          ]
        },
        {
          "output_type": "execute_result",
          "data": {
            "text/plain": [
              "True"
            ]
          },
          "metadata": {},
          "execution_count": 2
        }
      ]
    },
    {
      "cell_type": "code",
      "source": [
        "text = \"This is a simple example to show how stop words removal works in NLP.\"\n",
        "text"
      ],
      "metadata": {
        "colab": {
          "base_uri": "https://localhost:8080/",
          "height": 36
        },
        "id": "xu513ABz2QWx",
        "outputId": "c2fa1188-60fd-4528-bb06-ee41374ed57b"
      },
      "execution_count": 3,
      "outputs": [
        {
          "output_type": "execute_result",
          "data": {
            "text/plain": [
              "'This is a simple example to show how stop words removal works in NLP.'"
            ],
            "application/vnd.google.colaboratory.intrinsic+json": {
              "type": "string"
            }
          },
          "metadata": {},
          "execution_count": 3
        }
      ]
    },
    {
      "cell_type": "code",
      "source": [
        "nltk.download('punkt_tab')"
      ],
      "metadata": {
        "colab": {
          "base_uri": "https://localhost:8080/"
        },
        "id": "jCivFfEk3CPR",
        "outputId": "7a1f2c52-9903-41ce-968a-43836ab73c9b"
      },
      "execution_count": 5,
      "outputs": [
        {
          "output_type": "stream",
          "name": "stderr",
          "text": [
            "[nltk_data] Downloading package punkt_tab to /root/nltk_data...\n",
            "[nltk_data]   Unzipping tokenizers/punkt_tab.zip.\n"
          ]
        },
        {
          "output_type": "execute_result",
          "data": {
            "text/plain": [
              "True"
            ]
          },
          "metadata": {},
          "execution_count": 5
        }
      ]
    },
    {
      "cell_type": "code",
      "source": [
        "# Tokenization\n",
        "words = word_tokenize(text)\n",
        "words"
      ],
      "metadata": {
        "colab": {
          "base_uri": "https://localhost:8080/"
        },
        "id": "Yt9EXU1925cp",
        "outputId": "24ebf052-d23e-437c-ec08-b7476a242628"
      },
      "execution_count": 6,
      "outputs": [
        {
          "output_type": "execute_result",
          "data": {
            "text/plain": [
              "['This',\n",
              " 'is',\n",
              " 'a',\n",
              " 'simple',\n",
              " 'example',\n",
              " 'to',\n",
              " 'show',\n",
              " 'how',\n",
              " 'stop',\n",
              " 'words',\n",
              " 'removal',\n",
              " 'works',\n",
              " 'in',\n",
              " 'NLP',\n",
              " '.']"
            ]
          },
          "metadata": {},
          "execution_count": 6
        }
      ]
    },
    {
      "cell_type": "code",
      "source": [
        "# Removing stop words\n",
        "filtered_words = [word for word in words if word.lower() not in stopwords.words(\"english\")]\n",
        "filtered_words"
      ],
      "metadata": {
        "colab": {
          "base_uri": "https://localhost:8080/"
        },
        "id": "BGEJR_Ce3Tvb",
        "outputId": "7535c253-b993-418f-d48a-d9dc72ca1ea0"
      },
      "execution_count": 7,
      "outputs": [
        {
          "output_type": "execute_result",
          "data": {
            "text/plain": [
              "['simple', 'example', 'show', 'stop', 'words', 'removal', 'works', 'NLP', '.']"
            ]
          },
          "metadata": {},
          "execution_count": 7
        }
      ]
    },
    {
      "cell_type": "code",
      "source": [
        "stop_words1 = [word for word in words if word.lower()  in stopwords.words(\"english\")]\n",
        "stop_words1"
      ],
      "metadata": {
        "colab": {
          "base_uri": "https://localhost:8080/"
        },
        "id": "kD6g4FuU4Gzi",
        "outputId": "916658a5-b118-4c66-e618-e554ceef13b0"
      },
      "execution_count": 8,
      "outputs": [
        {
          "output_type": "execute_result",
          "data": {
            "text/plain": [
              "['This', 'is', 'a', 'to', 'how', 'in']"
            ]
          },
          "metadata": {},
          "execution_count": 8
        }
      ]
    },
    {
      "cell_type": "code",
      "source": [
        "print(\"Original Text:\", words)\n",
        "print(\"After removal stopwords Text:\", filtered_words)\n",
        "print(\"Stopwords from the Text:\", stop_words1)"
      ],
      "metadata": {
        "colab": {
          "base_uri": "https://localhost:8080/"
        },
        "id": "f3KHfncw4hSo",
        "outputId": "70f67373-a76f-4fe2-9de3-8329b289e991"
      },
      "execution_count": 9,
      "outputs": [
        {
          "output_type": "stream",
          "name": "stdout",
          "text": [
            "Original Text: ['This', 'is', 'a', 'simple', 'example', 'to', 'show', 'how', 'stop', 'words', 'removal', 'works', 'in', 'NLP', '.']\n",
            "After removal stopwords Text: ['simple', 'example', 'show', 'stop', 'words', 'removal', 'works', 'NLP', '.']\n",
            "Stopwords from the Text: ['This', 'is', 'a', 'to', 'how', 'in']\n"
          ]
        }
      ]
    },
    {
      "cell_type": "code",
      "source": [
        "# 2) Part-of-Speech (POS) Tagging"
      ],
      "metadata": {
        "id": "_ItSlpgk6ICb"
      },
      "execution_count": null,
      "outputs": []
    },
    {
      "cell_type": "code",
      "source": [
        "What is POS Tagging?\n",
        "POS Tagging is the process of labeling words in a sentence with their corresponding\n",
        " parts of speech, such as noun, verb, adjective, pronoun, etc.\n",
        "\n",
        "1.Helps in parsing, Named Entity Recognition (NER)\n",
        "2.Used in chatbots, grammar correction, and sentiment analysis\n",
        "\n",
        "POS Tagging Example:\n",
        "Word\tPOS Tag\n",
        "NLP\tNoun\n",
        "is\tVerb\n",
        "fun\tAdjective\n",
        "\n"
      ],
      "metadata": {
        "id": "tvfB4aJy6SVy"
      },
      "execution_count": null,
      "outputs": []
    },
    {
      "cell_type": "code",
      "source": [
        "nltk.download('averaged_perceptron_tagger_eng')"
      ],
      "metadata": {
        "colab": {
          "base_uri": "https://localhost:8080/"
        },
        "id": "7rqsLmO07FFx",
        "outputId": "ec351c30-892b-41a8-94d8-f258239c17c8"
      },
      "execution_count": 10,
      "outputs": [
        {
          "output_type": "stream",
          "name": "stderr",
          "text": [
            "[nltk_data] Downloading package averaged_perceptron_tagger_eng to\n",
            "[nltk_data]     /root/nltk_data...\n",
            "[nltk_data]   Unzipping taggers/averaged_perceptron_tagger_eng.zip.\n"
          ]
        },
        {
          "output_type": "execute_result",
          "data": {
            "text/plain": [
              "True"
            ]
          },
          "metadata": {},
          "execution_count": 10
        }
      ]
    },
    {
      "cell_type": "code",
      "source": [
        "from nltk import pos_tag\n",
        "from nltk.tokenize import word_tokenize"
      ],
      "metadata": {
        "id": "NZfrd5TF7LAR"
      },
      "execution_count": 11,
      "outputs": []
    },
    {
      "cell_type": "code",
      "source": [
        "text = \"NLP is an exciting field of artificial intelligence.\"\n",
        "words = word_tokenize(text)\n",
        "words"
      ],
      "metadata": {
        "colab": {
          "base_uri": "https://localhost:8080/"
        },
        "id": "jLfbbESI7oml",
        "outputId": "f01f16a1-e269-4a23-b2f5-033fa23518f9"
      },
      "execution_count": 12,
      "outputs": [
        {
          "output_type": "execute_result",
          "data": {
            "text/plain": [
              "['NLP',\n",
              " 'is',\n",
              " 'an',\n",
              " 'exciting',\n",
              " 'field',\n",
              " 'of',\n",
              " 'artificial',\n",
              " 'intelligence',\n",
              " '.']"
            ]
          },
          "metadata": {},
          "execution_count": 12
        }
      ]
    },
    {
      "cell_type": "code",
      "source": [
        "# POS Tagging\n",
        "pos_tags = pos_tag(words)\n",
        "pos_tags"
      ],
      "metadata": {
        "colab": {
          "base_uri": "https://localhost:8080/"
        },
        "id": "TQI9BRjr7_ae",
        "outputId": "99c8c2e8-934d-4f71-fdae-83ace3116c82"
      },
      "execution_count": 13,
      "outputs": [
        {
          "output_type": "execute_result",
          "data": {
            "text/plain": [
              "[('NLP', 'NNP'),\n",
              " ('is', 'VBZ'),\n",
              " ('an', 'DT'),\n",
              " ('exciting', 'JJ'),\n",
              " ('field', 'NN'),\n",
              " ('of', 'IN'),\n",
              " ('artificial', 'JJ'),\n",
              " ('intelligence', 'NN'),\n",
              " ('.', '.')]"
            ]
          },
          "metadata": {},
          "execution_count": 13
        }
      ]
    },
    {
      "cell_type": "code",
      "source": [
        "Common POS Tags in NLTK:\n",
        "\n",
        "NN → Noun\n",
        "VB → Verb\n",
        "JJ → Adjective\n",
        "RB → Adverb"
      ],
      "metadata": {
        "id": "GcjXlsB88W7F"
      },
      "execution_count": null,
      "outputs": []
    },
    {
      "cell_type": "code",
      "source": [
        "#spacy\n",
        "\n",
        "import spacy\n",
        "\n",
        "nlp = spacy.load(\"en_core_web_sm\")"
      ],
      "metadata": {
        "id": "NLKjusXn-Elh"
      },
      "execution_count": 14,
      "outputs": []
    },
    {
      "cell_type": "code",
      "source": [
        "text = \"NLP is an exciting field of artificial intelligence.\"\n",
        "text"
      ],
      "metadata": {
        "colab": {
          "base_uri": "https://localhost:8080/",
          "height": 36
        },
        "id": "mwan9Yve-fJi",
        "outputId": "d48b1f59-7a4e-419e-b760-ee819c7c55e2"
      },
      "execution_count": 15,
      "outputs": [
        {
          "output_type": "execute_result",
          "data": {
            "text/plain": [
              "'NLP is an exciting field of artificial intelligence.'"
            ],
            "application/vnd.google.colaboratory.intrinsic+json": {
              "type": "string"
            }
          },
          "metadata": {},
          "execution_count": 15
        }
      ]
    },
    {
      "cell_type": "code",
      "source": [
        "doc = nlp(text)\n",
        "pos_tags = [(token.text, token.pos_) for token in doc]\n",
        "pos_tags"
      ],
      "metadata": {
        "colab": {
          "base_uri": "https://localhost:8080/"
        },
        "id": "x-muzNsK-nYi",
        "outputId": "7d69f5a3-6219-4209-f1b0-00370d6f4700"
      },
      "execution_count": 18,
      "outputs": [
        {
          "output_type": "execute_result",
          "data": {
            "text/plain": [
              "[('NLP', 'PROPN'),\n",
              " ('is', 'AUX'),\n",
              " ('an', 'DET'),\n",
              " ('exciting', 'ADJ'),\n",
              " ('field', 'NOUN'),\n",
              " ('of', 'ADP'),\n",
              " ('artificial', 'ADJ'),\n",
              " ('intelligence', 'NOUN'),\n",
              " ('.', 'PUNCT')]"
            ]
          },
          "metadata": {},
          "execution_count": 18
        }
      ]
    },
    {
      "cell_type": "code",
      "source": [
        "spaCy POS Tags:\n",
        "\n",
        "NOUN → Noun\n",
        "VERB → Verb\n",
        "ADJ → Adjective"
      ],
      "metadata": {
        "id": "kKgnkEEEAW3p"
      },
      "execution_count": null,
      "outputs": []
    },
    {
      "cell_type": "code",
      "source": [
        "#Named Entity Recognition (NER)"
      ],
      "metadata": {
        "id": "WpP6FsJlAvAp"
      },
      "execution_count": 19,
      "outputs": []
    },
    {
      "cell_type": "code",
      "source": [
        "What is Named Entity Recognition?\n",
        "NER is used to identify and classify real-world entities in\n",
        " text, such as names, locations, organizations, dates, etc.\n",
        "\n",
        "NER Example:\n",
        "Word\t    Entity Type\n",
        "Apple\t    Organization\n",
        "Elon Musk\tPerson\n",
        "India \t  Location\n",
        "2024\t    Date"
      ],
      "metadata": {
        "id": "7vcD-VB_A4BC"
      },
      "execution_count": null,
      "outputs": []
    },
    {
      "cell_type": "code",
      "source": [
        "import spacy\n",
        "nlp = spacy.load(\"en_core_web_sm\")\n",
        "text = \"Elon Musk is the CEO of Tesla, which is headquartered in California.\"\n",
        "text"
      ],
      "metadata": {
        "colab": {
          "base_uri": "https://localhost:8080/",
          "height": 36
        },
        "id": "LI8nQQ98BaLy",
        "outputId": "3d502489-0f29-4126-9ca8-7a4edb0418f4"
      },
      "execution_count": 20,
      "outputs": [
        {
          "output_type": "execute_result",
          "data": {
            "text/plain": [
              "'Elon Musk is the CEO of Tesla, which is headquartered in California.'"
            ],
            "application/vnd.google.colaboratory.intrinsic+json": {
              "type": "string"
            }
          },
          "metadata": {},
          "execution_count": 20
        }
      ]
    },
    {
      "cell_type": "code",
      "source": [
        "doc = nlp(text)\n",
        "\n",
        "# Extract named entities\n",
        "for ent in doc.ents:\n",
        "    print(f\"{ent.text} - {ent.label_}\")"
      ],
      "metadata": {
        "colab": {
          "base_uri": "https://localhost:8080/"
        },
        "id": "QRLAh4yDCJSC",
        "outputId": "45902b57-fa22-4047-d3e6-b60409b06b47"
      },
      "execution_count": 21,
      "outputs": [
        {
          "output_type": "stream",
          "name": "stdout",
          "text": [
            "Elon Musk - PERSON\n",
            "Tesla - ORG\n",
            "California - GPE\n"
          ]
        }
      ]
    },
    {
      "cell_type": "code",
      "source": [
        "https://spacy.io/api"
      ],
      "metadata": {
        "id": "h0MOh38CDnIw"
      },
      "execution_count": null,
      "outputs": []
    },
    {
      "cell_type": "code",
      "source": [
        "Common Entity Types in spaCy:\n",
        "\n",
        "PERSON → People’s names\n",
        "ORG → Organizations (Google, Tesla)\n",
        "GPE → Geographic Locations (India, California)\n",
        "DATE → Dates and time expressions"
      ],
      "metadata": {
        "id": "aDDO6i2SDpLr"
      },
      "execution_count": null,
      "outputs": []
    }
  ]
}