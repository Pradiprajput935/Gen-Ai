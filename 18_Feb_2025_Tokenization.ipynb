{
  "nbformat": 4,
  "nbformat_minor": 0,
  "metadata": {
    "colab": {
      "provenance": []
    },
    "kernelspec": {
      "name": "python3",
      "display_name": "Python 3"
    },
    "language_info": {
      "name": "python"
    }
  },
  "cells": [
    {
      "cell_type": "code",
      "execution_count": null,
      "metadata": {
        "id": "gkztq_Sqb4c-"
      },
      "outputs": [],
      "source": [
        "Tokenization:\n",
        "1. sentence tokenization\n",
        "2. word tokenization"
      ]
    },
    {
      "cell_type": "code",
      "source": [
        "nltk"
      ],
      "metadata": {
        "id": "y04ROuUIh1Ug"
      },
      "execution_count": null,
      "outputs": []
    },
    {
      "cell_type": "code",
      "source": [
        "The Natural Language Toolkit, or more commonly NLTK,\n",
        "is a suite of libraries and programs for symbolic and\n",
        "statistical natural language processing (NLP)\n",
        "for English written in the Python programming language.\n",
        "It supports classification, tokenization, stemming, tagging, parsing,\n",
        "and semantic reasoning functionalities"
      ],
      "metadata": {
        "id": "jWomgufEh4M2"
      },
      "execution_count": null,
      "outputs": []
    },
    {
      "cell_type": "code",
      "source": [
        "import nltk\n",
        ">>> sentence = \"\"\"At eight o'clock on Thursday morning\n",
        "... Arthur didn't feel very good.\"\"\"\n",
        ">>> tokens = nltk.word_tokenize(sentence)\n",
        ">>> tokens\n",
        "['At', 'eight', \"o'clock\", 'on', 'Thursday', 'morning',\n",
        "'Arthur', 'did', \"n't\", 'feel', 'very', 'good', '.']"
      ],
      "metadata": {
        "id": "y3jziBqfjWsd"
      },
      "execution_count": null,
      "outputs": []
    },
    {
      "cell_type": "code",
      "source": [
        "Spacy:"
      ],
      "metadata": {
        "id": "LtGmB4WwjgZ4"
      },
      "execution_count": null,
      "outputs": []
    },
    {
      "cell_type": "code",
      "source": [
        "spaCy (/speɪˈsiː/ spay-SEE) is an open-source software library\n",
        "for advanced natural language processing,\n",
        "written in the programming languages Python."
      ],
      "metadata": {
        "id": "9tug0jL0ktsF"
      },
      "execution_count": null,
      "outputs": []
    },
    {
      "cell_type": "code",
      "source": [
        "spaCy features convolutional neural network models for part-of-speech tagging,\n",
        " dependency parsing, text categorization and named entity recognition (NER).\n",
        "  Prebuilt statistical neural network models to perform these tasks are available\n",
        "   for 23 languages, including English, Portuguese, Spanish, Russian and Chinese,\n",
        "   and there is also a multi-language NER model.\n",
        "   Additional support for tokenization for more than 65 languages allows\n",
        "   users to train custom models\n",
        " on their own datasets as well."
      ],
      "metadata": {
        "id": "JvdceiZkk5X9"
      },
      "execution_count": null,
      "outputs": []
    },
    {
      "cell_type": "code",
      "source": [],
      "metadata": {
        "id": "LvlXGF74llC2"
      },
      "execution_count": null,
      "outputs": []
    },
    {
      "cell_type": "code",
      "source": [
        "# Importing necessary libraries\n",
        "import pandas as pd\n",
        "# import re\n",
        "import nltk\n",
        "import spacy"
      ],
      "metadata": {
        "id": "cgig8M98ltd6"
      },
      "execution_count": null,
      "outputs": []
    },
    {
      "cell_type": "code",
      "source": [
        "nltk.download('punkt')"
      ],
      "metadata": {
        "colab": {
          "base_uri": "https://localhost:8080/"
        },
        "id": "uK5MOPGRmNwn",
        "outputId": "6e9ce0c3-d14e-41d8-f9bc-22b232120ee3"
      },
      "execution_count": null,
      "outputs": [
        {
          "output_type": "stream",
          "name": "stderr",
          "text": [
            "[nltk_data] Downloading package punkt to /root/nltk_data...\n",
            "[nltk_data]   Unzipping tokenizers/punkt.zip.\n"
          ]
        },
        {
          "output_type": "execute_result",
          "data": {
            "text/plain": [
              "True"
            ]
          },
          "metadata": {},
          "execution_count": 2
        }
      ]
    },
    {
      "cell_type": "code",
      "source": [
        "from nltk.tokenize import word_tokenize,sent_tokenize,WordPunctTokenizer"
      ],
      "metadata": {
        "id": "_5dMQ0Spmt4R"
      },
      "execution_count": null,
      "outputs": []
    },
    {
      "cell_type": "code",
      "source": [
        "text=\"NLP class is amazing! Can't wait to learn more at www.example.com. the contact number is 88888\"\n",
        "text"
      ],
      "metadata": {
        "colab": {
          "base_uri": "https://localhost:8080/",
          "height": 36
        },
        "id": "-YrF8qUPnLvW",
        "outputId": "fd2ee4f6-5bae-4aeb-b95c-1eab1ff1d574"
      },
      "execution_count": null,
      "outputs": [
        {
          "output_type": "execute_result",
          "data": {
            "text/plain": [
              "\"NLP class is amazing! Can't wait to learn more at www.example.com. the contact number is 88888\""
            ],
            "application/vnd.google.colaboratory.intrinsic+json": {
              "type": "string"
            }
          },
          "metadata": {},
          "execution_count": 4
        }
      ]
    },
    {
      "cell_type": "code",
      "source": [
        "nltk.download('punkt_tab')"
      ],
      "metadata": {
        "colab": {
          "base_uri": "https://localhost:8080/"
        },
        "id": "uMnfhU8yoWEs",
        "outputId": "04692279-0d77-4138-81e1-48c23e4e9ef4"
      },
      "execution_count": null,
      "outputs": [
        {
          "output_type": "stream",
          "name": "stderr",
          "text": [
            "[nltk_data] Downloading package punkt_tab to /root/nltk_data...\n",
            "[nltk_data]   Unzipping tokenizers/punkt_tab.zip.\n"
          ]
        },
        {
          "output_type": "execute_result",
          "data": {
            "text/plain": [
              "True"
            ]
          },
          "metadata": {},
          "execution_count": 6
        }
      ]
    },
    {
      "cell_type": "code",
      "source": [
        "# Tokenization (word and sentence)\n",
        "word_tokens1 = word_tokenize(text)\n",
        "word_tokens1\n"
      ],
      "metadata": {
        "colab": {
          "base_uri": "https://localhost:8080/"
        },
        "id": "Ybbws3nToA6_",
        "outputId": "dd0997c8-0c4f-4ce6-8785-fe15e7dc45df"
      },
      "execution_count": null,
      "outputs": [
        {
          "output_type": "execute_result",
          "data": {
            "text/plain": [
              "['NLP',\n",
              " 'class',\n",
              " 'is',\n",
              " 'amazing',\n",
              " '!',\n",
              " 'Ca',\n",
              " \"n't\",\n",
              " 'wait',\n",
              " 'to',\n",
              " 'learn',\n",
              " 'more',\n",
              " 'at',\n",
              " 'www.example.com',\n",
              " '.',\n",
              " 'the',\n",
              " 'contact',\n",
              " 'number',\n",
              " 'is',\n",
              " '88888']"
            ]
          },
          "metadata": {},
          "execution_count": 16
        }
      ]
    },
    {
      "cell_type": "code",
      "source": [
        "text"
      ],
      "metadata": {
        "colab": {
          "base_uri": "https://localhost:8080/",
          "height": 36
        },
        "id": "yvixM5F2ox_m",
        "outputId": "468ca1b7-5a81-4fcb-a116-292b4a0a02af"
      },
      "execution_count": null,
      "outputs": [
        {
          "output_type": "execute_result",
          "data": {
            "text/plain": [
              "\"NLP class is amazing! Can't wait to learn more at www.example.com. the contact number is 88888\""
            ],
            "application/vnd.google.colaboratory.intrinsic+json": {
              "type": "string"
            }
          },
          "metadata": {},
          "execution_count": 8
        }
      ]
    },
    {
      "cell_type": "code",
      "source": [
        "text1=\"\"\"India, officially the Republic of India,[j][21] is a country in South Asia. It is the seventh-largest country by area; the most populous country from June 2023 onwards;[22][23] and since its independence in 1947, the world's most populous democracy.[24][25][26] Bounded by the Indian Ocean on the south, the Arabian Sea on the southwest, and the Bay of Bengal on the southeast, it shares land borders with Pakistan to the west;[k] China, Nepal, and Bhutan to the north; and Bangladesh and Myanmar to the east. In the Indian Ocean, India is near Sri Lanka and the Maldives; its Andaman and Nicobar Islands share a maritime border with Thailand, Myanmar, and Indonesia.\"\"\"\n",
        "text1"
      ],
      "metadata": {
        "colab": {
          "base_uri": "https://localhost:8080/",
          "height": 125
        },
        "id": "Vy2jrWKUpWq9",
        "outputId": "e3e01d6d-400e-4322-84a6-c2261530ee58"
      },
      "execution_count": null,
      "outputs": [
        {
          "output_type": "execute_result",
          "data": {
            "text/plain": [
              "\"India, officially the Republic of India,[j][21] is a country in South Asia. It is the seventh-largest country by area; the most populous country from June 2023 onwards;[22][23] and since its independence in 1947, the world's most populous democracy.[24][25][26] Bounded by the Indian Ocean on the south, the Arabian Sea on the southwest, and the Bay of Bengal on the southeast, it shares land borders with Pakistan to the west;[k] China, Nepal, and Bhutan to the north; and Bangladesh and Myanmar to the east. In the Indian Ocean, India is near Sri Lanka and the Maldives; its Andaman and Nicobar Islands share a maritime border with Thailand, Myanmar, and Indonesia.\""
            ],
            "application/vnd.google.colaboratory.intrinsic+json": {
              "type": "string"
            }
          },
          "metadata": {},
          "execution_count": 9
        }
      ]
    },
    {
      "cell_type": "code",
      "source": [
        "# Tokenization (word and sentence)\n",
        "word_tokens = word_tokenize(text1)\n",
        "word_tokens"
      ],
      "metadata": {
        "colab": {
          "base_uri": "https://localhost:8080/"
        },
        "id": "v-1uDt4hprZx",
        "outputId": "00883922-86a7-4af9-fbb0-ac8da9ea79f9"
      },
      "execution_count": null,
      "outputs": [
        {
          "output_type": "execute_result",
          "data": {
            "text/plain": [
              "['India',\n",
              " ',',\n",
              " 'officially',\n",
              " 'the',\n",
              " 'Republic',\n",
              " 'of',\n",
              " 'India',\n",
              " ',',\n",
              " '[',\n",
              " 'j',\n",
              " ']',\n",
              " '[',\n",
              " '21',\n",
              " ']',\n",
              " 'is',\n",
              " 'a',\n",
              " 'country',\n",
              " 'in',\n",
              " 'South',\n",
              " 'Asia',\n",
              " '.',\n",
              " 'It',\n",
              " 'is',\n",
              " 'the',\n",
              " 'seventh-largest',\n",
              " 'country',\n",
              " 'by',\n",
              " 'area',\n",
              " ';',\n",
              " 'the',\n",
              " 'most',\n",
              " 'populous',\n",
              " 'country',\n",
              " 'from',\n",
              " 'June',\n",
              " '2023',\n",
              " 'onwards',\n",
              " ';',\n",
              " '[',\n",
              " '22',\n",
              " ']',\n",
              " '[',\n",
              " '23',\n",
              " ']',\n",
              " 'and',\n",
              " 'since',\n",
              " 'its',\n",
              " 'independence',\n",
              " 'in',\n",
              " '1947',\n",
              " ',',\n",
              " 'the',\n",
              " 'world',\n",
              " \"'s\",\n",
              " 'most',\n",
              " 'populous',\n",
              " 'democracy',\n",
              " '.',\n",
              " '[',\n",
              " '24',\n",
              " ']',\n",
              " '[',\n",
              " '25',\n",
              " ']',\n",
              " '[',\n",
              " '26',\n",
              " ']',\n",
              " 'Bounded',\n",
              " 'by',\n",
              " 'the',\n",
              " 'Indian',\n",
              " 'Ocean',\n",
              " 'on',\n",
              " 'the',\n",
              " 'south',\n",
              " ',',\n",
              " 'the',\n",
              " 'Arabian',\n",
              " 'Sea',\n",
              " 'on',\n",
              " 'the',\n",
              " 'southwest',\n",
              " ',',\n",
              " 'and',\n",
              " 'the',\n",
              " 'Bay',\n",
              " 'of',\n",
              " 'Bengal',\n",
              " 'on',\n",
              " 'the',\n",
              " 'southeast',\n",
              " ',',\n",
              " 'it',\n",
              " 'shares',\n",
              " 'land',\n",
              " 'borders',\n",
              " 'with',\n",
              " 'Pakistan',\n",
              " 'to',\n",
              " 'the',\n",
              " 'west',\n",
              " ';',\n",
              " '[',\n",
              " 'k',\n",
              " ']',\n",
              " 'China',\n",
              " ',',\n",
              " 'Nepal',\n",
              " ',',\n",
              " 'and',\n",
              " 'Bhutan',\n",
              " 'to',\n",
              " 'the',\n",
              " 'north',\n",
              " ';',\n",
              " 'and',\n",
              " 'Bangladesh',\n",
              " 'and',\n",
              " 'Myanmar',\n",
              " 'to',\n",
              " 'the',\n",
              " 'east',\n",
              " '.',\n",
              " 'In',\n",
              " 'the',\n",
              " 'Indian',\n",
              " 'Ocean',\n",
              " ',',\n",
              " 'India',\n",
              " 'is',\n",
              " 'near',\n",
              " 'Sri',\n",
              " 'Lanka',\n",
              " 'and',\n",
              " 'the',\n",
              " 'Maldives',\n",
              " ';',\n",
              " 'its',\n",
              " 'Andaman',\n",
              " 'and',\n",
              " 'Nicobar',\n",
              " 'Islands',\n",
              " 'share',\n",
              " 'a',\n",
              " 'maritime',\n",
              " 'border',\n",
              " 'with',\n",
              " 'Thailand',\n",
              " ',',\n",
              " 'Myanmar',\n",
              " ',',\n",
              " 'and',\n",
              " 'Indonesia',\n",
              " '.']"
            ]
          },
          "metadata": {},
          "execution_count": 10
        }
      ]
    },
    {
      "cell_type": "code",
      "source": [
        "# sentence tokenizer:from nltk.tokenize import sent_tokenize"
      ],
      "metadata": {
        "id": "Do6tCEhZrIEn"
      },
      "execution_count": null,
      "outputs": []
    },
    {
      "cell_type": "code",
      "source": [
        "text"
      ],
      "metadata": {
        "colab": {
          "base_uri": "https://localhost:8080/",
          "height": 36
        },
        "id": "GV-oc1tVrtRR",
        "outputId": "42d5b22b-f43b-4029-a8d0-97af766278b9"
      },
      "execution_count": null,
      "outputs": [
        {
          "output_type": "execute_result",
          "data": {
            "text/plain": [
              "\"NLP class is amazing! Can't wait to learn more at www.example.com. the contact number is 88888\""
            ],
            "application/vnd.google.colaboratory.intrinsic+json": {
              "type": "string"
            }
          },
          "metadata": {},
          "execution_count": 11
        }
      ]
    },
    {
      "cell_type": "code",
      "source": [
        "sentence_tokens = sent_tokenize(text)\n",
        "sentence_tokens"
      ],
      "metadata": {
        "colab": {
          "base_uri": "https://localhost:8080/"
        },
        "id": "Hw3NGbeWrR8O",
        "outputId": "dc562f85-b1ed-47c6-f399-9973d9f16a00"
      },
      "execution_count": null,
      "outputs": [
        {
          "output_type": "execute_result",
          "data": {
            "text/plain": [
              "['NLP class is amazing!',\n",
              " \"Can't wait to learn more at www.example.com.\",\n",
              " 'the contact number is 88888']"
            ]
          },
          "metadata": {},
          "execution_count": 12
        }
      ]
    },
    {
      "cell_type": "code",
      "source": [
        "# WordPunctTokenizer"
      ],
      "metadata": {
        "id": "SvDBBwQWtUyp"
      },
      "execution_count": null,
      "outputs": []
    },
    {
      "cell_type": "code",
      "source": [
        "punct_token=nltk.wordpunct_tokenize(text)\n",
        "punct_token"
      ],
      "metadata": {
        "colab": {
          "base_uri": "https://localhost:8080/"
        },
        "id": "DO22OVyQtWOE",
        "outputId": "1d6dd69a-3e5e-4b31-f948-da90cf709057"
      },
      "execution_count": null,
      "outputs": [
        {
          "output_type": "execute_result",
          "data": {
            "text/plain": [
              "['NLP',\n",
              " 'class',\n",
              " 'is',\n",
              " 'amazing',\n",
              " '!',\n",
              " 'Can',\n",
              " \"'\",\n",
              " 't',\n",
              " 'wait',\n",
              " 'to',\n",
              " 'learn',\n",
              " 'more',\n",
              " 'at',\n",
              " 'www',\n",
              " '.',\n",
              " 'example',\n",
              " '.',\n",
              " 'com',\n",
              " '.',\n",
              " 'the',\n",
              " 'contact',\n",
              " 'number',\n",
              " 'is',\n",
              " '88888']"
            ]
          },
          "metadata": {},
          "execution_count": 15
        }
      ]
    },
    {
      "cell_type": "code",
      "source": [
        "word_tokens1"
      ],
      "metadata": {
        "colab": {
          "base_uri": "https://localhost:8080/"
        },
        "id": "GmubMMKoulL9",
        "outputId": "e4aa6f2e-0c8f-46d3-c803-ff7525301ed3"
      },
      "execution_count": null,
      "outputs": [
        {
          "output_type": "execute_result",
          "data": {
            "text/plain": [
              "['NLP',\n",
              " 'class',\n",
              " 'is',\n",
              " 'amazing',\n",
              " '!',\n",
              " 'Ca',\n",
              " \"n't\",\n",
              " 'wait',\n",
              " 'to',\n",
              " 'learn',\n",
              " 'more',\n",
              " 'at',\n",
              " 'www.example.com',\n",
              " '.',\n",
              " 'the',\n",
              " 'contact',\n",
              " 'number',\n",
              " 'is',\n",
              " '88888']"
            ]
          },
          "metadata": {},
          "execution_count": 17
        }
      ]
    },
    {
      "cell_type": "code",
      "source": [
        "sp=text.split()\n",
        "sp"
      ],
      "metadata": {
        "colab": {
          "base_uri": "https://localhost:8080/"
        },
        "id": "892-DSKyurGC",
        "outputId": "74c7ad92-0005-46bd-8093-f2f549fb8783"
      },
      "execution_count": null,
      "outputs": [
        {
          "output_type": "execute_result",
          "data": {
            "text/plain": [
              "['NLP',\n",
              " 'class',\n",
              " 'is',\n",
              " 'amazing!',\n",
              " \"Can't\",\n",
              " 'wait',\n",
              " 'to',\n",
              " 'learn',\n",
              " 'more',\n",
              " 'at',\n",
              " 'www.example.com.',\n",
              " 'the',\n",
              " 'contact',\n",
              " 'number',\n",
              " 'is',\n",
              " '88888']"
            ]
          },
          "metadata": {},
          "execution_count": 18
        }
      ]
    }
  ]
}