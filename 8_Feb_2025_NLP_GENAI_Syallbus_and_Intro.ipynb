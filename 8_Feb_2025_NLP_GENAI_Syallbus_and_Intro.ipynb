{
  "nbformat": 4,
  "nbformat_minor": 0,
  "metadata": {
    "colab": {
      "provenance": []
    },
    "kernelspec": {
      "name": "python3",
      "display_name": "Python 3"
    },
    "language_info": {
      "name": "python"
    }
  },
  "cells": [
    {
      "cell_type": "code",
      "execution_count": null,
      "metadata": {
        "id": "KOV7CdyvJSOq"
      },
      "outputs": [],
      "source": [
        "NLP AND GEN AI SYALLBUS in detailed"
      ]
    },
    {
      "cell_type": "code",
      "source": [],
      "metadata": {
        "id": "vpGFJviiU60e"
      },
      "execution_count": null,
      "outputs": []
    },
    {
      "cell_type": "code",
      "source": [
        "introduction to NLP and Genai"
      ],
      "metadata": {
        "id": "cTvrCcOYUzGX"
      },
      "execution_count": null,
      "outputs": []
    },
    {
      "cell_type": "markdown",
      "source": [],
      "metadata": {
        "id": "g2STmo5SJS-1"
      }
    },
    {
      "cell_type": "markdown",
      "source": [
        "\n",
        "LLM:\n",
        "\n",
        "lM : Language model\n",
        "\n",
        "early NLP - 1960 - rule based system and simple statistical models.\n",
        "statistical methods - 1980-2000 - n-grams\n",
        "Neural Newworks and word embeddings (2010s)\n",
        "transformer revolution (2017)\n",
        "per llm - BERT , GPT1 (2018-19)\n",
        "LLM (2019)\n",
        "OpenAI\n",
        "GPT-2,3,4\n",
        "\n",
        "agentic ai\n",
        "\n",
        "\n",
        "\n"
      ],
      "metadata": {
        "id": "Yq35e-VMJUfq"
      }
    },
    {
      "cell_type": "markdown",
      "source": [],
      "metadata": {
        "id": "GQTNA-v5JawD"
      }
    }
  ]
}