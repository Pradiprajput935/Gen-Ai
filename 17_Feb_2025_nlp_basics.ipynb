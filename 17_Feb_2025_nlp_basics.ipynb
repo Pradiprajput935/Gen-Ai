{
  "nbformat": 4,
  "nbformat_minor": 0,
  "metadata": {
    "colab": {
      "provenance": []
    },
    "kernelspec": {
      "name": "python3",
      "display_name": "Python 3"
    },
    "language_info": {
      "name": "python"
    }
  },
  "cells": [
    {
      "cell_type": "code",
      "execution_count": null,
      "metadata": {
        "id": "Y0Kz1ZpcVYk2"
      },
      "outputs": [],
      "source": [
        "NLP APPLICATIONS:\n",
        "1. Chatbot: rule-based system\n",
        "Dialflow, Rasa\n",
        "\n",
        "2.Translation: rule bases\n",
        "\n",
        "3.Sentiment analysis:\n",
        "NLTK\n",
        "VADAR\n",
        "TEXTBLOB\n",
        "\n",
        "4. search engine\n",
        "\n",
        "5. recommandation system\n",
        "\n",
        "6.speech to text\n",
        "\n",
        "7. text summarization\n",
        "\n",
        "8. Resume screening and recruitment\n",
        "Spacy\n",
        "\n",
        "9.legal and healthcare  document processing\n",
        "\n",
        "\n",
        "\n"
      ]
    },
    {
      "cell_type": "code",
      "source": [
        "Gen ai application:\n",
        "\n",
        "1.AI powered Chatbots : chatgpt, google gemini\n",
        "2.text to image generation: DALL-E, MidJourney\n",
        "3.AI Video & animation generation : Runway ML\n",
        "4.Code generation and debugging : github copilot\n",
        "5.AI Music generation :google MusicLM\n",
        "6.AI powered search\n",
        "7.AI generated content\n",
        "8. AI powered Gaming\n",
        "9. AI powered Healthcare & Drug discovery\n",
        "10.AI powered finance\n",
        "\n",
        "\n",
        "\n"
      ],
      "metadata": {
        "id": "OnAHnyswWHeT"
      },
      "execution_count": null,
      "outputs": []
    },
    {
      "cell_type": "code",
      "source": [
        "● Evolution of NLP: From Rule-Based to Deep Learning Approaches\n",
        "\n",
        "early NLP - 1960 - rule based system and simple statistical models.\n",
        "statistical methods - 1980-2000 -n-grams\n",
        "Neural Newworks and word embeddings (2010s)\n",
        " transformer revolution (2017)\n",
        " per llm - BERT , GPT1 (2018-19)\n",
        " LLM (2019) OpenAI GPT-2,3,4\n",
        "\n",
        "agentic ai"
      ],
      "metadata": {
        "id": "4XTsRDuiXFz2"
      },
      "execution_count": null,
      "outputs": []
    },
    {
      "cell_type": "code",
      "source": [
        "1. Introduction to NLP and Generative AI\n",
        "● What is NLP? Real-World Applications\n",
        "● What is Generative AI? Use Cases and Trends\n",
        "● Evolution of NLP: From Rule-Based to Deep Learning Approaches\n",
        "● Overview of Generative AI Models\n",
        "\n",
        "2. Fundamentals of NLP\n",
        "● Text Preprocessing: ○ Tokenization (Word, Sentence, Subword Tokenization)\n",
        "○ Lemmatization and Stemming ○ Stop Words Removal\n",
        "● Part-of-Speech (POS) Tagging\n",
        "● Named Entity Recognition (NER)\n",
        "\n",
        "3. Feature Representation in NLP\n",
        "● Traditional Representations: ○ Bag of Words (BoW) ○ TF-IDF\n",
        "● Dense Word Representations: ○ Word Embeddings( Word2Vec (Skip-gram and CBOW), GloVe)\n",
        "\n",
        "4. Sequential Models for NLP\n",
        "● Recurrent Neural Networks (RNNs)\n",
        "● Long Short-Term Memory (LSTM) and Bidirectional LSTMs\n",
        "● Gated Recurrent Units (GRU)\n",
        "● Applications of RNNs, LSTMs, and GRUs in NLP"
      ],
      "metadata": {
        "id": "gBUvchxIXKzg"
      },
      "execution_count": null,
      "outputs": []
    },
    {
      "cell_type": "code",
      "source": [
        "why NLP?\n",
        "ML\n",
        "c1,c2,c3,c4,c5,c6,c7,c8,c9,c10......class (pass,fail)"
      ],
      "metadata": {
        "id": "2y4_TzKAXLPF"
      },
      "execution_count": null,
      "outputs": []
    },
    {
      "cell_type": "code",
      "source": [
        "c1 ,c2: reviews....... sentiment(happy/unhappy)"
      ],
      "metadata": {
        "id": "hiZMENpyaE_q"
      },
      "execution_count": null,
      "outputs": []
    },
    {
      "cell_type": "code",
      "source": [
        "One month of usage, nice battery backup,\n",
        " gaming is smooth and no heating issue found yet,\n",
        "camera quality is also 👍,\n",
        "AI features makes it more convenient and useful,\n",
        "overall\n",
        "it is nice product in this price range.\n",
        "Display quality is very good,charging speed is 50 minutes from 0 to 100\n"
      ],
      "metadata": {
        "id": "D6AiUkZubGUh"
      },
      "execution_count": null,
      "outputs": []
    },
    {
      "cell_type": "code",
      "source": [
        "20,000 reviews\n",
        "1,000 very bad - product heating issue\n",
        "4,000 bad (small problem)\n",
        "3,000 neutral\n",
        "12,000 very happy/happy\n",
        "-----------------------\n",
        "\n"
      ],
      "metadata": {
        "id": "m0ymwLFxcZbE"
      },
      "execution_count": null,
      "outputs": []
    },
    {
      "cell_type": "code",
      "source": [
        "ML Based NLP : (NLTK, Spacy)\n",
        "1. text cleaning : tokenization, stemming, lemmatization, stopwords,\n",
        "2. vectors : text preprocessing: BOW, TFIDF, Unigram, n-grams\n",
        "2.1          text preprocessing: word2vec\n",
        "--------------------------------------------------\n",
        "NLP deep learning based:\n",
        "3.Neural network : RNN, LSTM, GRU ()\n",
        "text preprocessing: word Embedding\n",
        "transformer\n",
        "BERT, ROBERTA, DistilBERT"
      ],
      "metadata": {
        "id": "JQdY6hnPkpc-"
      },
      "execution_count": null,
      "outputs": []
    },
    {
      "cell_type": "code",
      "source": [
        "Text Preprocessing: ○ Tokenization (Word, Sentence)\n",
        "NLTK\n",
        "\n",
        "text......vector....ml model....class"
      ],
      "metadata": {
        "id": "7X2sDSyKinPk"
      },
      "execution_count": null,
      "outputs": []
    },
    {
      "cell_type": "code",
      "source": [
        "Sentence Tokenization:\n",
        "\n",
        "India, officially the Republic of India,[j][21] is a country in South Asia.\n",
        "\n",
        " It is the seventh-largest country by area;\n",
        " the most populous country from June 2023 onwards;[22][23]\n",
        " and since its independence in 1947,\n",
        "  the world's most populous democracy.\n",
        "\n",
        "  [24][25][26] Bounded by the Indian Ocean on the south,\n",
        "   the Arabian Sea on the southwest, and the Bay of Bengal on the southeast,\n",
        "    it shares land borders with Pakistan to the west;\n",
        "     [k] China, Nepal, and Bhutan to the north; and\n",
        "     Bangladesh and Myanmar to the east.\n",
        "\n",
        "     In the Indian Ocean,\n",
        "     India is near Sri Lanka and the Maldives;\n",
        " its Andaman and Nicobar Islands share a maritime border\n",
        " with Thailand, Myanmar, and Indonesia."
      ],
      "metadata": {
        "id": "eHWWrZ5ijpC9"
      },
      "execution_count": null,
      "outputs": []
    },
    {
      "cell_type": "code",
      "source": [
        "  Word Tokenization:\n",
        "   In\n",
        "   the\n",
        "   Indian\n",
        "   Ocean\n",
        "   ,\n",
        "   India\n",
        "   is\n",
        "   near\n",
        "    Sri\n",
        "    Lanka\n",
        "     and\n",
        "     the\n",
        "     Maldives\n",
        "     ;\n",
        " its\n",
        " Andaman\n",
        "  and\n",
        "  Nicobar\n",
        "   Islands\n",
        "    share\n",
        "     a\n",
        "     maritime\n",
        "      border\n",
        " with\n",
        "  Thailand\n",
        "  ,\n",
        "   Myanmar\n",
        "   ,\n",
        "   and\n",
        "   Indonesia\n",
        "   ."
      ],
      "metadata": {
        "id": "r0sioR8XkObz"
      },
      "execution_count": null,
      "outputs": []
    },
    {
      "cell_type": "code",
      "source": [],
      "metadata": {
        "id": "e3ohel6chmqw"
      },
      "execution_count": null,
      "outputs": []
    }
  ]
}