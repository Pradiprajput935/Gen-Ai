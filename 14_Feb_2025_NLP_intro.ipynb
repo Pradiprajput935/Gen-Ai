{
  "nbformat": 4,
  "nbformat_minor": 0,
  "metadata": {
    "colab": {
      "provenance": []
    },
    "kernelspec": {
      "name": "python3",
      "display_name": "Python 3"
    },
    "language_info": {
      "name": "python"
    }
  },
  "cells": [
    {
      "cell_type": "code",
      "execution_count": null,
      "metadata": {
        "id": "edLVF2nK6Tp8"
      },
      "outputs": [],
      "source": [
        "day 1:\n",
        "\n",
        "1. Introduction to NLP and Generative AI\n",
        "● What is NLP? Real-World Applications\n",
        "● What is Generative AI? Use Cases and Trends\n",
        "● Evolution of NLP: From Rule-Based to Deep Learning Approaches\n",
        "● Overview of Generative AI Models"
      ]
    },
    {
      "cell_type": "code",
      "source": [
        "NLP APPLICATIONS:\n",
        "1. Chatbot: rule-based system\n",
        "Dialflow, Rasa\n",
        "\n",
        "2.Translation: rule bases\n",
        "\n",
        "3.Sentiment analysis:\n",
        "NLTK\n",
        "VADAR\n",
        "TEXTBLOB\n",
        "\n",
        "4. search engine\n",
        "\n",
        "5. recommandation system\n",
        "\n",
        "6.speech to text\n",
        "\n",
        "7. text summarization\n",
        "\n",
        "8. Resume screening and recruitment\n",
        "Spacy\n",
        "\n",
        "9.legal and healthcare  document processing\n",
        "\n",
        "\n",
        "\n"
      ],
      "metadata": {
        "id": "kmuPYKJs6gUV"
      },
      "execution_count": null,
      "outputs": []
    },
    {
      "cell_type": "code",
      "source": [
        "Gen ai application:\n",
        "\n",
        "1.AI powered Chatbots : chatgpt, google gemini\n",
        "2.text to image generation: DALL-E, MidJourney\n",
        "3.AI Video & animation generation : Runway ML\n",
        "4.Code generation and debugging : github copilot\n",
        "5.AI Music generation :google MusicLM\n",
        "6.AI powered search\n",
        "7.AI generated content\n",
        "8. AI powered Gaming\n",
        "9. AI powered Healthcare & Drug discovery\n",
        "10.AI powered finance\n",
        "\n",
        "\n",
        "\n"
      ],
      "metadata": {
        "id": "DWbrKJoT-8cZ"
      },
      "execution_count": null,
      "outputs": []
    },
    {
      "cell_type": "code",
      "source": [
        "● Evolution of NLP: From Rule-Based to Deep Learning Approaches\n",
        "\n",
        "early NLP - 1960 - rule based system and simple statistical models.\n",
        "statistical methods - 1980-2000 -n-grams\n",
        "Neural Newworks and word embeddings (2010s)\n",
        " transformer revolution (2017)\n",
        " per llm - BERT , GPT1 (2018-19)\n",
        " LLM (2019) OpenAI GPT-2,3,4\n",
        "\n",
        "agentic ai"
      ],
      "metadata": {
        "id": "AnNYfUOzE1Nc"
      },
      "execution_count": null,
      "outputs": []
    }
  ]
}